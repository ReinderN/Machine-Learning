{
 "cells": [
  {
   "cell_type": "markdown",
   "id": "98441deb",
   "metadata": {},
   "source": [
    "# Opgave DBSCAN"
   ]
  },
  {
   "cell_type": "markdown",
   "id": "fde54c84",
   "metadata": {},
   "source": [
    "In deze opgave gaan we voor de verandering werken met de iris-dataset. We hebben hiervoor gekozen omdat het een fijne kleine en overzichtelijke dataset is en omdat deze inmiddels al voldoende is toegelicht."
   ]
  },
  {
   "cell_type": "markdown",
   "id": "54a75927",
   "metadata": {},
   "source": [
    "Omdat we nu unsupervised te werk gaan, maken we geen gebruik van de `y`-vector. We willen kijken of we een [DBSCAN-model](https://scikit-learn.org/stable/modules/clustering.html#dbscan) kunnen maken dat de data in verschillende klassen kan classificeren. Om deze classificatie inzichtelijk te maken, hebben we een hulpfunctie `plot_dbscan` gemaakt, die je hieronder ziet staan. Bestudeer eventueel deze code om een beeld te krijgen van hoe hij werkt en wat de bedoeling is."
   ]
  },
  {
   "cell_type": "markdown",
   "id": "8b29a504",
   "metadata": {},
   "source": [
    "Run de onderstaande cel om de noodzakelijke imports uit te voeren."
   ]
  },
  {
   "cell_type": "code",
   "id": "30573311",
   "metadata": {
    "ExecuteTime": {
     "end_time": "2024-10-02T12:22:53.378399Z",
     "start_time": "2024-10-02T12:22:52.845586Z"
    }
   },
   "source": [
    "from sklearn.datasets import load_iris\n",
    "from sklearn.cluster import DBSCAN\n",
    "import numpy as np\n",
    "import matplotlib.pyplot as plt"
   ],
   "outputs": [],
   "execution_count": 1
  },
  {
   "cell_type": "markdown",
   "id": "865c64f7",
   "metadata": {},
   "source": [
    "Run de onderstaande cel om de methode `plot_dbscan` te definiëren."
   ]
  },
  {
   "cell_type": "code",
   "id": "7da8a207",
   "metadata": {
    "ExecuteTime": {
     "end_time": "2024-10-02T12:22:53.384221Z",
     "start_time": "2024-10-02T12:22:53.381411Z"
    }
   },
   "source": [
    "def plot_dbscan(model, X, **labels):\n",
    "    core_mask = np.zeros_like(model.labels_, dtype=bool)\n",
    "    core_mask[model.core_sample_indices_] = True\n",
    "    anomalies_mask = model.labels_ == -1\n",
    "    non_core_mask = ~(core_mask | anomalies_mask)\n",
    "\n",
    "    cores = model.components_\n",
    "    anomalies = X[anomalies_mask]\n",
    "    non_cores = X[non_core_mask]\n",
    "    \n",
    "    plt.scatter(cores[:, 0], cores[:, 1], c=model.labels_[core_mask], marker='o', s=100, cmap=\"Paired\")\n",
    "    plt.scatter(cores[:, 0], cores[:, 1], c=model.labels_[core_mask], marker='^', s=20, label='klasse')\n",
    "    plt.scatter(anomalies[:, 0], anomalies[:, 1], c=\"r\", marker=\"x\", s=100, label='uitbijter')\n",
    "    plt.scatter(non_cores[:, 0], non_cores[:, 1], c=model.labels_[non_core_mask], marker=\".\", label='non-core')\n",
    "    \n",
    "    x_str = '$x_1$' if not 'xlabel' in labels else labels['xlabel']\n",
    "    y_str = '$x_2$' if not 'ylabel' in labels else labels['ylabel']\n",
    "    plt.xlabel(x_str, fontsize=14)\n",
    "    plt.ylabel(y_str, fontsize=14)\n",
    "    plt.legend()\n",
    "    plt.title(f\"eps={model.eps:.2f}, min_samples={model.min_samples}\", fontsize=14)"
   ],
   "outputs": [],
   "execution_count": 2
  },
  {
   "cell_type": "markdown",
   "id": "e2756703",
   "metadata": {},
   "source": [
    "Laad de iris-dataset van uit `sklearn-datasets`. Zoals tijdens het theoriecollege is toegelicht zijn &epsilon; (`eps`) en het aantal samples in de omgeving van het gekozen datapunt de belangrijkste parameters van DBSCAN. Maak verschillende modellen met (in ieder geval) de onderstaande waarden voor deze parameters. Maak telkens een plot en registreer het aantal klassen, uitbijters en non-core observaties.\n",
    "\n",
    "```\n",
    "  min_samples: [3, 4, 5, 7, 9]\n",
    "  eps{ [.1, .4, .55, .6, 1, 2]\n",
    "```"
   ]
  },
  {
   "cell_type": "markdown",
   "id": "316a791f",
   "metadata": {},
   "source": [
    "Maak vervolgens een interessante visualisatie van deze gegevens om inzichtelijk te krijgen wat de effecten van de verschillende waarden voor deze parameters zijn. Kun je verklaren wat er gebeurt?"
   ]
  },
  {
   "metadata": {
    "ExecuteTime": {
     "end_time": "2024-10-02T12:22:53.410943Z",
     "start_time": "2024-10-02T12:22:53.407408Z"
    }
   },
   "cell_type": "code",
   "source": [
    "from sklearn.datasets import load_iris\n",
    "\n",
    "iris = load_iris()\n",
    "X = iris.data\n",
    "\n",
    "m, n = X.shape\n",
    "\n",
    "y = iris.target\n",
    "\n",
    "y = np.where(y == 1, 0, y)\n",
    "y = np.where(y == 2, 1, y)\n",
    "\n",
    "y = y.reshape((m, 1))"
   ],
   "id": "f3315b081c943eaf",
   "outputs": [],
   "execution_count": 3
  },
  {
   "metadata": {
    "ExecuteTime": {
     "end_time": "2024-10-02T12:22:53.420463Z",
     "start_time": "2024-10-02T12:22:53.418828Z"
    }
   },
   "cell_type": "code",
   "source": [
    "def sigmoid(x):\n",
    "    return 1 / (1 + np.exp(-x))"
   ],
   "id": "50f5df649978607c",
   "outputs": [],
   "execution_count": 4
  },
  {
   "metadata": {
    "ExecuteTime": {
     "end_time": "2024-10-02T12:22:53.428214Z",
     "start_time": "2024-10-02T12:22:53.426535Z"
    }
   },
   "cell_type": "code",
   "source": "theta = np.ones((n, 1), dtype='float64')",
   "id": "a89acc8348ea0095",
   "outputs": [],
   "execution_count": 5
  },
  {
   "metadata": {
    "ExecuteTime": {
     "end_time": "2024-10-02T12:22:53.514798Z",
     "start_time": "2024-10-02T12:22:53.434984Z"
    }
   },
   "cell_type": "code",
   "source": [
    "learning_rate = 0.001\n",
    "costs = []\n",
    "\n",
    "for _ in range(1500):\n",
    "    h = sigmoid(X.dot(theta))\n",
    "    errors = h - y\n",
    "    gradient = X.T.dot(errors) / m\n",
    "    theta -= learning_rate * gradient\n",
    "    cost = -y * np.log(h) - (1 - y) * np.log(1 - h)\n",
    "    costs.append(cost.mean())\n",
    "    \n",
    "plt.plot(costs)"
   ],
   "id": "1efca0d23a8b2da9",
   "outputs": [
    {
     "data": {
      "text/plain": [
       "[<matplotlib.lines.Line2D at 0x167d29fd0>]"
      ]
     },
     "execution_count": 6,
     "metadata": {},
     "output_type": "execute_result"
    },
    {
     "data": {
      "text/plain": [
       "<Figure size 640x480 with 1 Axes>"
      ],
      "image/png": "[encoded data removed]"
     },
     "metadata": {},
     "output_type": "display_data"
    }
   ],
   "execution_count": 6
  }
 ],
 "metadata": {
  "kernelspec": {
   "display_name": "Python 3 (ipykernel)",
   "language": "python",
   "name": "python3"
  },
  "language_info": {
   "codemirror_mode": {
    "name": "ipython",
    "version": 3
   },
   "file_extension": ".py",
   "mimetype": "text/x-python",
   "name": "python",
   "nbconvert_exporter": "python",
   "pygments_lexer": "ipython3",
   "version": "3.10.1"
  }
 },
 "nbformat": 4,
 "nbformat_minor": 5
}
